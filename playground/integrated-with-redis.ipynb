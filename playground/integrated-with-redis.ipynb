{
 "cells": [
  {
   "cell_type": "code",
   "execution_count": 1,
   "metadata": {},
   "outputs": [],
   "source": [
    "import numpy as np\n",
    "import pandas as pd\n",
    "import redis\n",
    "import os"
   ]
  },
  {
   "cell_type": "code",
   "execution_count": 2,
   "metadata": {},
   "outputs": [],
   "source": [
    "# Connect to Redis\n",
    "hostname=os.getenv('REDIS_HOST')\n",
    "port=os.getenv('REDIS_PORT')\n",
    "password=os.getenv('REDIS_PASSWORD')\n",
    "\n",
    "r = redis.Redis(host=hostname, port=port, password=password)"
   ]
  },
  {
   "cell_type": "code",
   "execution_count": 3,
   "metadata": {},
   "outputs": [
    {
     "data": {
      "text/plain": [
       "True"
      ]
     },
     "execution_count": 3,
     "metadata": {},
     "output_type": "execute_result"
    }
   ],
   "source": [
    "r.ping()"
   ]
  },
  {
   "cell_type": "code",
   "execution_count": 4,
   "metadata": {},
   "outputs": [
    {
     "data": {
      "text/plain": [
       "['xvalues', 'col_names']"
      ]
     },
     "execution_count": 4,
     "metadata": {},
     "output_type": "execute_result"
    }
   ],
   "source": [
    "# load the data (nzip file)\n",
    "np_file = np.load('datasets/face_recognition.npz', allow_pickle=True)\n",
    "np_file.files"
   ]
  },
  {
   "cell_type": "code",
   "execution_count": 5,
   "metadata": {},
   "outputs": [
    {
     "data": {
      "text/html": [
       "<div>\n",
       "<style scoped>\n",
       "    .dataframe tbody tr th:only-of-type {\n",
       "        vertical-align: middle;\n",
       "    }\n",
       "\n",
       "    .dataframe tbody tr th {\n",
       "        vertical-align: top;\n",
       "    }\n",
       "\n",
       "    .dataframe thead th {\n",
       "        text-align: right;\n",
       "    }\n",
       "</style>\n",
       "<table border=\"1\" class=\"dataframe\">\n",
       "  <thead>\n",
       "    <tr style=\"text-align: right;\">\n",
       "      <th></th>\n",
       "      <th>role</th>\n",
       "      <th>name</th>\n",
       "      <th>facial_features</th>\n",
       "    </tr>\n",
       "  </thead>\n",
       "  <tbody>\n",
       "    <tr>\n",
       "      <th>0</th>\n",
       "      <td>Student</td>\n",
       "      <td>Angelina Jolie</td>\n",
       "      <td>[0.19881932, 1.4748837, -0.0979588, -0.8805054...</td>\n",
       "    </tr>\n",
       "    <tr>\n",
       "      <th>1</th>\n",
       "      <td>Student</td>\n",
       "      <td>Chris Evans</td>\n",
       "      <td>[0.35691047, -0.41491055, 0.039218444, -0.1543...</td>\n",
       "    </tr>\n",
       "    <tr>\n",
       "      <th>2</th>\n",
       "      <td>Student</td>\n",
       "      <td>Scarlett Johansson</td>\n",
       "      <td>[-0.13535985, -0.2821385, -0.42700845, -0.2825...</td>\n",
       "    </tr>\n",
       "    <tr>\n",
       "      <th>3</th>\n",
       "      <td>Teacher</td>\n",
       "      <td>Barack Obama</td>\n",
       "      <td>[-0.22177827, 1.5762169, -0.5030781, 0.1360128...</td>\n",
       "    </tr>\n",
       "    <tr>\n",
       "      <th>4</th>\n",
       "      <td>Teacher</td>\n",
       "      <td>Morgan Freeman</td>\n",
       "      <td>[0.76278937, 0.890615, 0.46873552, 0.25898102,...</td>\n",
       "    </tr>\n",
       "  </tbody>\n",
       "</table>\n",
       "</div>"
      ],
      "text/plain": [
       "      role                name  \\\n",
       "0  Student      Angelina Jolie   \n",
       "1  Student         Chris Evans   \n",
       "2  Student  Scarlett Johansson   \n",
       "3  Teacher        Barack Obama   \n",
       "4  Teacher      Morgan Freeman   \n",
       "\n",
       "                                     facial_features  \n",
       "0  [0.19881932, 1.4748837, -0.0979588, -0.8805054...  \n",
       "1  [0.35691047, -0.41491055, 0.039218444, -0.1543...  \n",
       "2  [-0.13535985, -0.2821385, -0.42700845, -0.2825...  \n",
       "3  [-0.22177827, 1.5762169, -0.5030781, 0.1360128...  \n",
       "4  [0.76278937, 0.890615, 0.46873552, 0.25898102,...  "
      ]
     },
     "execution_count": 5,
     "metadata": {},
     "output_type": "execute_result"
    }
   ],
   "source": [
    "x_values = np_file['xvalues']\n",
    "col_names = np_file['col_names']\n",
    "\n",
    "df = pd.DataFrame(x_values, columns=col_names)\n",
    "df"
   ]
  },
  {
   "cell_type": "code",
   "execution_count": 6,
   "metadata": {},
   "outputs": [
    {
     "data": {
      "text/html": [
       "<div>\n",
       "<style scoped>\n",
       "    .dataframe tbody tr th:only-of-type {\n",
       "        vertical-align: middle;\n",
       "    }\n",
       "\n",
       "    .dataframe tbody tr th {\n",
       "        vertical-align: top;\n",
       "    }\n",
       "\n",
       "    .dataframe thead th {\n",
       "        text-align: right;\n",
       "    }\n",
       "</style>\n",
       "<table border=\"1\" class=\"dataframe\">\n",
       "  <thead>\n",
       "    <tr style=\"text-align: right;\">\n",
       "      <th></th>\n",
       "      <th>role</th>\n",
       "      <th>name</th>\n",
       "      <th>facial_features</th>\n",
       "      <th>role_name</th>\n",
       "    </tr>\n",
       "  </thead>\n",
       "  <tbody>\n",
       "    <tr>\n",
       "      <th>0</th>\n",
       "      <td>Student</td>\n",
       "      <td>Angelina Jolie</td>\n",
       "      <td>[0.19881932, 1.4748837, -0.0979588, -0.8805054...</td>\n",
       "      <td>Student@Angelina Jolie</td>\n",
       "    </tr>\n",
       "    <tr>\n",
       "      <th>1</th>\n",
       "      <td>Student</td>\n",
       "      <td>Chris Evans</td>\n",
       "      <td>[0.35691047, -0.41491055, 0.039218444, -0.1543...</td>\n",
       "      <td>Student@Chris Evans</td>\n",
       "    </tr>\n",
       "    <tr>\n",
       "      <th>2</th>\n",
       "      <td>Student</td>\n",
       "      <td>Scarlett Johansson</td>\n",
       "      <td>[-0.13535985, -0.2821385, -0.42700845, -0.2825...</td>\n",
       "      <td>Student@Scarlett Johansson</td>\n",
       "    </tr>\n",
       "    <tr>\n",
       "      <th>3</th>\n",
       "      <td>Teacher</td>\n",
       "      <td>Barack Obama</td>\n",
       "      <td>[-0.22177827, 1.5762169, -0.5030781, 0.1360128...</td>\n",
       "      <td>Teacher@Barack Obama</td>\n",
       "    </tr>\n",
       "    <tr>\n",
       "      <th>4</th>\n",
       "      <td>Teacher</td>\n",
       "      <td>Morgan Freeman</td>\n",
       "      <td>[0.76278937, 0.890615, 0.46873552, 0.25898102,...</td>\n",
       "      <td>Teacher@Morgan Freeman</td>\n",
       "    </tr>\n",
       "  </tbody>\n",
       "</table>\n",
       "</div>"
      ],
      "text/plain": [
       "      role                name  \\\n",
       "0  Student      Angelina Jolie   \n",
       "1  Student         Chris Evans   \n",
       "2  Student  Scarlett Johansson   \n",
       "3  Teacher        Barack Obama   \n",
       "4  Teacher      Morgan Freeman   \n",
       "\n",
       "                                     facial_features  \\\n",
       "0  [0.19881932, 1.4748837, -0.0979588, -0.8805054...   \n",
       "1  [0.35691047, -0.41491055, 0.039218444, -0.1543...   \n",
       "2  [-0.13535985, -0.2821385, -0.42700845, -0.2825...   \n",
       "3  [-0.22177827, 1.5762169, -0.5030781, 0.1360128...   \n",
       "4  [0.76278937, 0.890615, 0.46873552, 0.25898102,...   \n",
       "\n",
       "                    role_name  \n",
       "0      Student@Angelina Jolie  \n",
       "1         Student@Chris Evans  \n",
       "2  Student@Scarlett Johansson  \n",
       "3        Teacher@Barack Obama  \n",
       "4      Teacher@Morgan Freeman  "
      ]
     },
     "execution_count": 6,
     "metadata": {},
     "output_type": "execute_result"
    }
   ],
   "source": [
    "df['role_name'] = df['role']+'@'+df['name']\n",
    "df"
   ]
  },
  {
   "cell_type": "code",
   "execution_count": 7,
   "metadata": {},
   "outputs": [],
   "source": [
    "records = df[['role_name', 'facial_features']].to_dict('records')"
   ]
  },
  {
   "cell_type": "code",
   "execution_count": 8,
   "metadata": {},
   "outputs": [
    {
     "data": {
      "text/plain": [
       "5"
      ]
     },
     "execution_count": 8,
     "metadata": {},
     "output_type": "execute_result"
    }
   ],
   "source": [
    "len(records)"
   ]
  },
  {
   "cell_type": "markdown",
   "metadata": {},
   "source": [
    "### Save data in Redis"
   ]
  },
  {
   "cell_type": "code",
   "execution_count": 9,
   "metadata": {},
   "outputs": [],
   "source": [
    "for record in records:\n",
    "    role_name = record['role_name']\n",
    "    vector = record['facial_features']\n",
    "\n",
    "    # convert numpy array to bytes\n",
    "    vector_bytes = vector.tobytes()\n",
    "\n",
    "    # save to redis\n",
    "    r.hset(name='academy:register', key=role_name, value=vector_bytes)"
   ]
  },
  {
   "cell_type": "markdown",
   "metadata": {},
   "source": [
    "### Retrive Records from Redis"
   ]
  },
  {
   "cell_type": "code",
   "execution_count": 10,
   "metadata": {},
   "outputs": [
    {
     "data": {
      "text/plain": [
       "b'Student@Chris Evans'           b'\\xf8\\xbc\\xb6>(o\\xd4\\xbe\\x85\\xa3 =\\xba\\x11\\x1...\n",
       "b'Student@Scarlett Johansson'    b'\\xc6\\x9b\\n\\xbeut\\x90\\xbe\\xda\\xa0\\xda\\xbe\\x17...\n",
       "b'Ahikmah@'                      b'\\xcf\\xb5\\xfd\\xbfv\\xecu=\\xa5\\xd16\\xbeL\\x1e:=`...\n",
       "b'Teacher@Barack Obama'          b'\\xd8\\x19c\\xbez\\xc1\\xc9?\\xba\\xc9\\x00\\xbf\\xf2F...\n",
       "b'Teacher@Morgan Freeman'        b'*FC?X\\xffc?\\x1a\\xfe\\xef>)\\x99\\x84>\\xee\\xfcb\\...\n",
       "b'Student@Angelina Jolie'        b'K\\x97K>\\xfd\\xc8\\xbc?\\xa0\\x9e\\xc8\\xbd\\xcdha\\x...\n",
       "dtype: object"
      ]
     },
     "execution_count": 10,
     "metadata": {},
     "output_type": "execute_result"
    }
   ],
   "source": [
    "retrieve_dict = r.hgetall('academy:register')\n",
    "retrieve_series = pd.Series(retrieve_dict)\n",
    "retrieve_series"
   ]
  },
  {
   "cell_type": "code",
   "execution_count": 11,
   "metadata": {},
   "outputs": [],
   "source": [
    "retrieve_series = retrieve_series.apply(lambda x: np.frombuffer(x, dtype=np.float32))\n",
    "index = retrieve_series.index\n",
    "index = list(map(lambda x: x.decode('utf-8'), index))"
   ]
  },
  {
   "cell_type": "code",
   "execution_count": 12,
   "metadata": {},
   "outputs": [],
   "source": [
    "retrieve_series.index = index"
   ]
  },
  {
   "cell_type": "code",
   "execution_count": 13,
   "metadata": {},
   "outputs": [
    {
     "data": {
      "text/html": [
       "<div>\n",
       "<style scoped>\n",
       "    .dataframe tbody tr th:only-of-type {\n",
       "        vertical-align: middle;\n",
       "    }\n",
       "\n",
       "    .dataframe tbody tr th {\n",
       "        vertical-align: top;\n",
       "    }\n",
       "\n",
       "    .dataframe thead th {\n",
       "        text-align: right;\n",
       "    }\n",
       "</style>\n",
       "<table border=\"1\" class=\"dataframe\">\n",
       "  <thead>\n",
       "    <tr style=\"text-align: right;\">\n",
       "      <th></th>\n",
       "      <th>role_name</th>\n",
       "      <th>facial_features</th>\n",
       "    </tr>\n",
       "  </thead>\n",
       "  <tbody>\n",
       "    <tr>\n",
       "      <th>0</th>\n",
       "      <td>Student@Chris Evans</td>\n",
       "      <td>[0.35691047, -0.41491055, 0.039218444, -0.1543...</td>\n",
       "    </tr>\n",
       "    <tr>\n",
       "      <th>1</th>\n",
       "      <td>Student@Scarlett Johansson</td>\n",
       "      <td>[-0.13535985, -0.2821385, -0.42700845, -0.2825...</td>\n",
       "    </tr>\n",
       "    <tr>\n",
       "      <th>2</th>\n",
       "      <td>Ahikmah@</td>\n",
       "      <td>[-1.9821109, 0.06003996, -0.1785341, 0.0454390...</td>\n",
       "    </tr>\n",
       "    <tr>\n",
       "      <th>3</th>\n",
       "      <td>Teacher@Barack Obama</td>\n",
       "      <td>[-0.22177827, 1.5762169, -0.5030781, 0.1360128...</td>\n",
       "    </tr>\n",
       "    <tr>\n",
       "      <th>4</th>\n",
       "      <td>Teacher@Morgan Freeman</td>\n",
       "      <td>[0.76278937, 0.890615, 0.46873552, 0.25898102,...</td>\n",
       "    </tr>\n",
       "    <tr>\n",
       "      <th>5</th>\n",
       "      <td>Student@Angelina Jolie</td>\n",
       "      <td>[0.19881932, 1.4748837, -0.0979588, -0.8805054...</td>\n",
       "    </tr>\n",
       "  </tbody>\n",
       "</table>\n",
       "</div>"
      ],
      "text/plain": [
       "                    role_name  \\\n",
       "0         Student@Chris Evans   \n",
       "1  Student@Scarlett Johansson   \n",
       "2                    Ahikmah@   \n",
       "3        Teacher@Barack Obama   \n",
       "4      Teacher@Morgan Freeman   \n",
       "5      Student@Angelina Jolie   \n",
       "\n",
       "                                     facial_features  \n",
       "0  [0.35691047, -0.41491055, 0.039218444, -0.1543...  \n",
       "1  [-0.13535985, -0.2821385, -0.42700845, -0.2825...  \n",
       "2  [-1.9821109, 0.06003996, -0.1785341, 0.0454390...  \n",
       "3  [-0.22177827, 1.5762169, -0.5030781, 0.1360128...  \n",
       "4  [0.76278937, 0.890615, 0.46873552, 0.25898102,...  \n",
       "5  [0.19881932, 1.4748837, -0.0979588, -0.8805054...  "
      ]
     },
     "execution_count": 13,
     "metadata": {},
     "output_type": "execute_result"
    }
   ],
   "source": [
    "retrieve_df = retrieve_series.to_frame().reset_index()\n",
    "retrieve_df.columns = ['role_name', 'facial_features']\n",
    "retrieve_df"
   ]
  },
  {
   "cell_type": "markdown",
   "metadata": {},
   "source": [
    "## Registration Form"
   ]
  },
  {
   "cell_type": "code",
   "execution_count": 14,
   "metadata": {},
   "outputs": [],
   "source": [
    "import cv2\n",
    "from insightface.app import FaceAnalysis"
   ]
  },
  {
   "cell_type": "code",
   "execution_count": 15,
   "metadata": {},
   "outputs": [
    {
     "name": "stdout",
     "output_type": "stream",
     "text": [
      "Applied providers: ['CPUExecutionProvider'], with options: {'CPUExecutionProvider': {}}\n",
      "find model: models\\buffalo_l\\1k3d68.onnx landmark_3d_68 ['None', 3, 192, 192] 0.0 1.0\n",
      "Applied providers: ['CPUExecutionProvider'], with options: {'CPUExecutionProvider': {}}\n",
      "find model: models\\buffalo_l\\2d106det.onnx landmark_2d_106 ['None', 3, 192, 192] 0.0 1.0\n",
      "Applied providers: ['CPUExecutionProvider'], with options: {'CPUExecutionProvider': {}}\n",
      "find model: models\\buffalo_l\\det_10g.onnx detection [1, 3, '?', '?'] 127.5 128.0\n",
      "Applied providers: ['CPUExecutionProvider'], with options: {'CPUExecutionProvider': {}}\n",
      "find model: models\\buffalo_l\\genderage.onnx genderage ['None', 3, 96, 96] 0.0 1.0\n",
      "Applied providers: ['CPUExecutionProvider'], with options: {'CPUExecutionProvider': {}}\n",
      "find model: models\\buffalo_l\\w600k_r50.onnx recognition ['None', 3, 112, 112] 127.5 127.5\n",
      "set det-size: (640, 640)\n"
     ]
    }
   ],
   "source": [
    "# configure face analysis\n",
    "app = FaceAnalysis(name='buffalo_l', root='', providers=['CUDAExecutionProvider'])\n",
    "\n",
    "app.prepare(ctx_id=0, det_size=(640, 640), det_thresh=0.5)"
   ]
  },
  {
   "cell_type": "markdown",
   "metadata": {},
   "source": [
    "#### Collect person information"
   ]
  },
  {
   "cell_type": "code",
   "execution_count": 16,
   "metadata": {},
   "outputs": [
    {
     "name": "stdout",
     "output_type": "stream",
     "text": [
      "Your name is:  Awaliyatul Hikmah\n",
      "Your role is:  Student\n",
      "Your key is:  Student@Awaliyatul Hikmah\n"
     ]
    }
   ],
   "source": [
    "# python input\n",
    "name = input('Enter your name: ')\n",
    "role = input(\"\"\"\n",
    "Please select your role:\n",
    "1. Student\n",
    "2. Teacher\n",
    "             \n",
    "Enter your role:\n",
    " \"\"\")\n",
    "\n",
    "\n",
    "if role in ('1', '2'):\n",
    "    if role == '1':\n",
    "        role = 'Student'\n",
    "    else:\n",
    "        role = 'Teacher'\n",
    "else:\n",
    "    print('Invalid role. Please try again.')\n",
    "        \n",
    "key = role+'@'+name\n",
    "print('Your name is: ', name)\n",
    "print('Your role is: ', role)\n",
    "print('Your key is: ', key)\n"
   ]
  },
  {
   "cell_type": "markdown",
   "metadata": {},
   "source": [
    "#### Collect the sample using video capture"
   ]
  },
  {
   "cell_type": "code",
   "execution_count": 17,
   "metadata": {},
   "outputs": [
    {
     "name": "stderr",
     "output_type": "stream",
     "text": [
      "d:\\aloka-vision\\venv\\lib\\site-packages\\insightface\\utils\\transform.py:68: FutureWarning: `rcond` parameter will change to the default of machine precision times ``max(M, N)`` where M and N are the input matrix dimensions.\n",
      "To use the future default and silence this warning we advise to pass `rcond=None`, to keep using the old, explicitly pass `rcond=-1`.\n",
      "  P = np.linalg.lstsq(X_homo, Y)[0].T # Affine matrix. 3 x 4\n"
     ]
    }
   ],
   "source": [
    "cap = cv2.VideoCapture(0) # 0: default camera, 1: external camera\n",
    "face_embeddings = []\n",
    "sample = 0\n",
    "while True:\n",
    "    ret, frame = cap.read()\n",
    "    \n",
    "    if not ret:\n",
    "        print('Error: Unable to capture video')\n",
    "        break\n",
    "\n",
    "    # get result from face analysis\n",
    "    results = app.get(frame, max_num=1) # max_num: maximum number of faces to detect\n",
    "    \n",
    "    for res in results:\n",
    "        sample += 1\n",
    "        x1, y1, x2, y2 = res['bbox'].astype(int)\n",
    "        cv2.rectangle(frame, (x1, y1), (x2, y2), (0, 255, 0), 2) # 2: thickness\n",
    "\n",
    "        # get facial features\n",
    "        embeddings = res['embedding']\n",
    "        face_embeddings.append(embeddings)\n",
    "\n",
    "    if sample >= 200:\n",
    "        break\n",
    "\n",
    "    # show the frame\n",
    "    cv2.imshow('frame', frame)\n",
    "    \n",
    "    # exit if q is pressed\n",
    "    if cv2.waitKey(1) & 0xFF == ord('q'): # 1 ms delay, 0xFF: 8 bit binary number\n",
    "        break\n",
    "cap.release()\n",
    "cv2.destroyAllWindows()"
   ]
  },
  {
   "cell_type": "code",
   "execution_count": 18,
   "metadata": {},
   "outputs": [
    {
     "data": {
      "text/plain": [
       "200"
      ]
     },
     "execution_count": 18,
     "metadata": {},
     "output_type": "execute_result"
    }
   ],
   "source": [
    "len(face_embeddings)"
   ]
  },
  {
   "cell_type": "markdown",
   "metadata": {},
   "source": [
    "#### Optimizing the sample"
   ]
  },
  {
   "cell_type": "code",
   "execution_count": 19,
   "metadata": {},
   "outputs": [
    {
     "data": {
      "text/plain": [
       "(512,)"
      ]
     },
     "execution_count": 19,
     "metadata": {},
     "output_type": "execute_result"
    }
   ],
   "source": [
    "x_mean = np.asarray(face_embeddings).mean(axis=0)\n",
    "x_mean.shape"
   ]
  },
  {
   "cell_type": "code",
   "execution_count": 20,
   "metadata": {},
   "outputs": [],
   "source": [
    "# convert into bytes\n",
    "x_mean_bytes = x_mean.tobytes()"
   ]
  },
  {
   "cell_type": "code",
   "execution_count": 21,
   "metadata": {},
   "outputs": [
    {
     "data": {
      "text/plain": [
       "1"
      ]
     },
     "execution_count": 21,
     "metadata": {},
     "output_type": "execute_result"
    }
   ],
   "source": [
    "# save key and facial bytes into redis\n",
    "r.hset(name='academy:register', key=key, value=x_mean_bytes)"
   ]
  },
  {
   "cell_type": "code",
   "execution_count": null,
   "metadata": {},
   "outputs": [],
   "source": []
  }
 ],
 "metadata": {
  "kernelspec": {
   "display_name": "aloka-vision-venv",
   "language": "python",
   "name": "python3"
  },
  "language_info": {
   "codemirror_mode": {
    "name": "ipython",
    "version": 3
   },
   "file_extension": ".py",
   "mimetype": "text/x-python",
   "name": "python",
   "nbconvert_exporter": "python",
   "pygments_lexer": "ipython3",
   "version": "3.10.11"
  },
  "orig_nbformat": 4
 },
 "nbformat": 4,
 "nbformat_minor": 2
}
