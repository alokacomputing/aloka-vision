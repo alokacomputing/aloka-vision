{
 "cells": [
  {
   "cell_type": "code",
   "execution_count": 1,
   "metadata": {},
   "outputs": [],
   "source": [
    "import numpy as np\n",
    "import pandas as pd\n",
    "import redis\n",
    "import os"
   ]
  },
  {
   "cell_type": "code",
   "execution_count": 2,
   "metadata": {},
   "outputs": [],
   "source": [
    "# Connect to Redis\n",
    "hostname=os.getenv('REDIS_HOST')\n",
    "port=os.getenv('REDIS_PORT')\n",
    "password=os.getenv('REDIS_PASSWORD')\n",
    "\n",
    "r = redis.Redis(host=hostname, port=port, password=password)"
   ]
  },
  {
   "cell_type": "code",
   "execution_count": 3,
   "metadata": {},
   "outputs": [
    {
     "data": {
      "text/plain": [
       "True"
      ]
     },
     "execution_count": 3,
     "metadata": {},
     "output_type": "execute_result"
    }
   ],
   "source": [
    "r.ping()"
   ]
  },
  {
   "cell_type": "code",
   "execution_count": 4,
   "metadata": {},
   "outputs": [
    {
     "data": {
      "text/plain": [
       "['xvalues', 'col_names']"
      ]
     },
     "execution_count": 4,
     "metadata": {},
     "output_type": "execute_result"
    }
   ],
   "source": [
    "# load the data (nzip file)\n",
    "np_file = np.load('datasets/face_recognition.npz', allow_pickle=True)\n",
    "np_file.files"
   ]
  },
  {
   "cell_type": "code",
   "execution_count": 5,
   "metadata": {},
   "outputs": [
    {
     "data": {
      "text/html": [
       "<div>\n",
       "<style scoped>\n",
       "    .dataframe tbody tr th:only-of-type {\n",
       "        vertical-align: middle;\n",
       "    }\n",
       "\n",
       "    .dataframe tbody tr th {\n",
       "        vertical-align: top;\n",
       "    }\n",
       "\n",
       "    .dataframe thead th {\n",
       "        text-align: right;\n",
       "    }\n",
       "</style>\n",
       "<table border=\"1\" class=\"dataframe\">\n",
       "  <thead>\n",
       "    <tr style=\"text-align: right;\">\n",
       "      <th></th>\n",
       "      <th>name</th>\n",
       "      <th>role</th>\n",
       "      <th>facial_features</th>\n",
       "    </tr>\n",
       "  </thead>\n",
       "  <tbody>\n",
       "    <tr>\n",
       "      <th>0</th>\n",
       "      <td>Angelina Jolie</td>\n",
       "      <td>Student</td>\n",
       "      <td>[0.43242034, 1.0748498, -0.12862365, -1.833291...</td>\n",
       "    </tr>\n",
       "    <tr>\n",
       "      <th>1</th>\n",
       "      <td>Barack Obama</td>\n",
       "      <td>Teacher</td>\n",
       "      <td>[0.94858104, -0.5584052, 0.094820715, -1.27965...</td>\n",
       "    </tr>\n",
       "    <tr>\n",
       "      <th>2</th>\n",
       "      <td>Chris Evans</td>\n",
       "      <td>Student</td>\n",
       "      <td>[0.7201715, -1.4684149, -0.7781253, -1.4601073...</td>\n",
       "    </tr>\n",
       "    <tr>\n",
       "      <th>3</th>\n",
       "      <td>Morgan Freeman</td>\n",
       "      <td>Teacher</td>\n",
       "      <td>[0.48535103, -0.6192555, -0.4069932, 1.0687788...</td>\n",
       "    </tr>\n",
       "    <tr>\n",
       "      <th>4</th>\n",
       "      <td>Scarlett Johansson</td>\n",
       "      <td>Student</td>\n",
       "      <td>[0.19131963, -0.48843804, -1.690233, 0.4423967...</td>\n",
       "    </tr>\n",
       "  </tbody>\n",
       "</table>\n",
       "</div>"
      ],
      "text/plain": [
       "                 name     role  \\\n",
       "0      Angelina Jolie  Student   \n",
       "1        Barack Obama  Teacher   \n",
       "2         Chris Evans  Student   \n",
       "3      Morgan Freeman  Teacher   \n",
       "4  Scarlett Johansson  Student   \n",
       "\n",
       "                                     facial_features  \n",
       "0  [0.43242034, 1.0748498, -0.12862365, -1.833291...  \n",
       "1  [0.94858104, -0.5584052, 0.094820715, -1.27965...  \n",
       "2  [0.7201715, -1.4684149, -0.7781253, -1.4601073...  \n",
       "3  [0.48535103, -0.6192555, -0.4069932, 1.0687788...  \n",
       "4  [0.19131963, -0.48843804, -1.690233, 0.4423967...  "
      ]
     },
     "execution_count": 5,
     "metadata": {},
     "output_type": "execute_result"
    }
   ],
   "source": [
    "x_values = np_file['xvalues']\n",
    "col_names = np_file['col_names']\n",
    "\n",
    "df = pd.DataFrame(x_values, columns=col_names)\n",
    "df"
   ]
  },
  {
   "cell_type": "code",
   "execution_count": 6,
   "metadata": {},
   "outputs": [
    {
     "data": {
      "text/html": [
       "<div>\n",
       "<style scoped>\n",
       "    .dataframe tbody tr th:only-of-type {\n",
       "        vertical-align: middle;\n",
       "    }\n",
       "\n",
       "    .dataframe tbody tr th {\n",
       "        vertical-align: top;\n",
       "    }\n",
       "\n",
       "    .dataframe thead th {\n",
       "        text-align: right;\n",
       "    }\n",
       "</style>\n",
       "<table border=\"1\" class=\"dataframe\">\n",
       "  <thead>\n",
       "    <tr style=\"text-align: right;\">\n",
       "      <th></th>\n",
       "      <th>name</th>\n",
       "      <th>role</th>\n",
       "      <th>facial_features</th>\n",
       "      <th>role_name</th>\n",
       "    </tr>\n",
       "  </thead>\n",
       "  <tbody>\n",
       "    <tr>\n",
       "      <th>0</th>\n",
       "      <td>Angelina Jolie</td>\n",
       "      <td>Student</td>\n",
       "      <td>[0.43242034, 1.0748498, -0.12862365, -1.833291...</td>\n",
       "      <td>Student@Angelina Jolie</td>\n",
       "    </tr>\n",
       "    <tr>\n",
       "      <th>1</th>\n",
       "      <td>Barack Obama</td>\n",
       "      <td>Teacher</td>\n",
       "      <td>[0.94858104, -0.5584052, 0.094820715, -1.27965...</td>\n",
       "      <td>Teacher@Barack Obama</td>\n",
       "    </tr>\n",
       "    <tr>\n",
       "      <th>2</th>\n",
       "      <td>Chris Evans</td>\n",
       "      <td>Student</td>\n",
       "      <td>[0.7201715, -1.4684149, -0.7781253, -1.4601073...</td>\n",
       "      <td>Student@Chris Evans</td>\n",
       "    </tr>\n",
       "    <tr>\n",
       "      <th>3</th>\n",
       "      <td>Morgan Freeman</td>\n",
       "      <td>Teacher</td>\n",
       "      <td>[0.48535103, -0.6192555, -0.4069932, 1.0687788...</td>\n",
       "      <td>Teacher@Morgan Freeman</td>\n",
       "    </tr>\n",
       "    <tr>\n",
       "      <th>4</th>\n",
       "      <td>Scarlett Johansson</td>\n",
       "      <td>Student</td>\n",
       "      <td>[0.19131963, -0.48843804, -1.690233, 0.4423967...</td>\n",
       "      <td>Student@Scarlett Johansson</td>\n",
       "    </tr>\n",
       "  </tbody>\n",
       "</table>\n",
       "</div>"
      ],
      "text/plain": [
       "                 name     role  \\\n",
       "0      Angelina Jolie  Student   \n",
       "1        Barack Obama  Teacher   \n",
       "2         Chris Evans  Student   \n",
       "3      Morgan Freeman  Teacher   \n",
       "4  Scarlett Johansson  Student   \n",
       "\n",
       "                                     facial_features  \\\n",
       "0  [0.43242034, 1.0748498, -0.12862365, -1.833291...   \n",
       "1  [0.94858104, -0.5584052, 0.094820715, -1.27965...   \n",
       "2  [0.7201715, -1.4684149, -0.7781253, -1.4601073...   \n",
       "3  [0.48535103, -0.6192555, -0.4069932, 1.0687788...   \n",
       "4  [0.19131963, -0.48843804, -1.690233, 0.4423967...   \n",
       "\n",
       "                    role_name  \n",
       "0      Student@Angelina Jolie  \n",
       "1        Teacher@Barack Obama  \n",
       "2         Student@Chris Evans  \n",
       "3      Teacher@Morgan Freeman  \n",
       "4  Student@Scarlett Johansson  "
      ]
     },
     "execution_count": 6,
     "metadata": {},
     "output_type": "execute_result"
    }
   ],
   "source": [
    "df['role_name'] = df['role']+'@'+df['name']\n",
    "df"
   ]
  },
  {
   "cell_type": "code",
   "execution_count": 7,
   "metadata": {},
   "outputs": [],
   "source": [
    "records = df[['role_name', 'facial_features']].to_dict('records')"
   ]
  },
  {
   "cell_type": "code",
   "execution_count": 8,
   "metadata": {},
   "outputs": [
    {
     "data": {
      "text/plain": [
       "5"
      ]
     },
     "execution_count": 8,
     "metadata": {},
     "output_type": "execute_result"
    }
   ],
   "source": [
    "len(records)"
   ]
  },
  {
   "cell_type": "markdown",
   "metadata": {},
   "source": [
    "### Save data in Redis"
   ]
  },
  {
   "cell_type": "code",
   "execution_count": 9,
   "metadata": {},
   "outputs": [],
   "source": [
    "for record in records:\n",
    "    role_name = record['role_name']\n",
    "    vector = record['facial_features']\n",
    "\n",
    "    # convert numpy array to bytes\n",
    "    vector_bytes = vector.tobytes()\n",
    "\n",
    "    # save to redis\n",
    "    r.hset(name='academy:register', key=role_name, value=vector_bytes)"
   ]
  },
  {
   "cell_type": "markdown",
   "metadata": {},
   "source": [
    "### Retrive Records from Redis"
   ]
  },
  {
   "cell_type": "code",
   "execution_count": 10,
   "metadata": {},
   "outputs": [
    {
     "data": {
      "text/plain": [
       "b'Student@Chris Evans'           b')]8?\\x05\\xf5\\xbb\\xbf83G\\xbf\\xcc\\xe4\\xba\\xbf\\...\n",
       "b'Student@Scarlett Johansson'    b'K\\xe9C>\\x8d\\x14\\xfa\\xbe\\x8eY\\xd8\\xbf\\xd3\\x81...\n",
       "b'Teacher@Barack Obama'          b'5\\xd6r?\\xa5\\xf3\\x0e\\xbf]1\\xc2=\\xde\\xcb\\xa3\\x...\n",
       "b'Teacher@Morgan Freeman'        b'\\xee\\x7f\\xf8>\\x87\\x87\\x1e\\xbfja\\xd0\\xbe\\xbe\\...\n",
       "b'Student@Angelina Jolie'        b'3f\\xdd>\\xae\\x94\\x89?\\xeb\\xb5\\x03\\xbeN\\xa9\\xe...\n",
       "dtype: object"
      ]
     },
     "execution_count": 10,
     "metadata": {},
     "output_type": "execute_result"
    }
   ],
   "source": [
    "retrieve_dict = r.hgetall('academy:register')\n",
    "retrieve_series = pd.Series(retrieve_dict)\n",
    "retrieve_series"
   ]
  },
  {
   "cell_type": "code",
   "execution_count": 11,
   "metadata": {},
   "outputs": [],
   "source": [
    "retrieve_series = retrieve_series.apply(lambda x: np.frombuffer(x, dtype=np.float32))\n",
    "index = retrieve_series.index\n",
    "index = list(map(lambda x: x.decode('utf-8'), index))"
   ]
  },
  {
   "cell_type": "code",
   "execution_count": 12,
   "metadata": {},
   "outputs": [],
   "source": [
    "retrieve_series.index = index"
   ]
  },
  {
   "cell_type": "code",
   "execution_count": 13,
   "metadata": {},
   "outputs": [
    {
     "data": {
      "text/html": [
       "<div>\n",
       "<style scoped>\n",
       "    .dataframe tbody tr th:only-of-type {\n",
       "        vertical-align: middle;\n",
       "    }\n",
       "\n",
       "    .dataframe tbody tr th {\n",
       "        vertical-align: top;\n",
       "    }\n",
       "\n",
       "    .dataframe thead th {\n",
       "        text-align: right;\n",
       "    }\n",
       "</style>\n",
       "<table border=\"1\" class=\"dataframe\">\n",
       "  <thead>\n",
       "    <tr style=\"text-align: right;\">\n",
       "      <th></th>\n",
       "      <th>role_name</th>\n",
       "      <th>facial_features</th>\n",
       "    </tr>\n",
       "  </thead>\n",
       "  <tbody>\n",
       "    <tr>\n",
       "      <th>0</th>\n",
       "      <td>Student@Chris Evans</td>\n",
       "      <td>[0.7201715, -1.4684149, -0.7781253, -1.4601073...</td>\n",
       "    </tr>\n",
       "    <tr>\n",
       "      <th>1</th>\n",
       "      <td>Student@Scarlett Johansson</td>\n",
       "      <td>[0.19131963, -0.48843804, -1.690233, 0.4423967...</td>\n",
       "    </tr>\n",
       "    <tr>\n",
       "      <th>2</th>\n",
       "      <td>Teacher@Barack Obama</td>\n",
       "      <td>[0.94858104, -0.5584052, 0.094820715, -1.27965...</td>\n",
       "    </tr>\n",
       "    <tr>\n",
       "      <th>3</th>\n",
       "      <td>Teacher@Morgan Freeman</td>\n",
       "      <td>[0.48535103, -0.6192555, -0.4069932, 1.0687788...</td>\n",
       "    </tr>\n",
       "    <tr>\n",
       "      <th>4</th>\n",
       "      <td>Student@Angelina Jolie</td>\n",
       "      <td>[0.43242034, 1.0748498, -0.12862365, -1.833291...</td>\n",
       "    </tr>\n",
       "  </tbody>\n",
       "</table>\n",
       "</div>"
      ],
      "text/plain": [
       "                    role_name  \\\n",
       "0         Student@Chris Evans   \n",
       "1  Student@Scarlett Johansson   \n",
       "2        Teacher@Barack Obama   \n",
       "3      Teacher@Morgan Freeman   \n",
       "4      Student@Angelina Jolie   \n",
       "\n",
       "                                     facial_features  \n",
       "0  [0.7201715, -1.4684149, -0.7781253, -1.4601073...  \n",
       "1  [0.19131963, -0.48843804, -1.690233, 0.4423967...  \n",
       "2  [0.94858104, -0.5584052, 0.094820715, -1.27965...  \n",
       "3  [0.48535103, -0.6192555, -0.4069932, 1.0687788...  \n",
       "4  [0.43242034, 1.0748498, -0.12862365, -1.833291...  "
      ]
     },
     "execution_count": 13,
     "metadata": {},
     "output_type": "execute_result"
    }
   ],
   "source": [
    "retrieve_df = retrieve_series.to_frame().reset_index()\n",
    "retrieve_df.columns = ['role_name', 'facial_features']\n",
    "retrieve_df"
   ]
  },
  {
   "cell_type": "markdown",
   "metadata": {},
   "source": [
    "## Registration Form"
   ]
  },
  {
   "cell_type": "code",
   "execution_count": 14,
   "metadata": {},
   "outputs": [],
   "source": [
    "import cv2\n",
    "from insightface.app import FaceAnalysis"
   ]
  },
  {
   "cell_type": "code",
   "execution_count": 15,
   "metadata": {},
   "outputs": [
    {
     "name": "stdout",
     "output_type": "stream",
     "text": [
      "Applied providers: ['CPUExecutionProvider'], with options: {'CPUExecutionProvider': {}}\n",
      "find model: models\\buffalo_sc\\det_500m.onnx detection [1, 3, '?', '?'] 127.5 128.0\n",
      "Applied providers: ['CPUExecutionProvider'], with options: {'CPUExecutionProvider': {}}\n",
      "find model: models\\buffalo_sc\\w600k_mbf.onnx recognition ['None', 3, 112, 112] 127.5 127.5\n",
      "set det-size: (640, 640)\n"
     ]
    }
   ],
   "source": [
    "# configure face analysis\n",
    "app = FaceAnalysis(name='buffalo_sc', root='', providers=['CUDAExecutionProvider'])\n",
    "\n",
    "app.prepare(ctx_id=0, det_size=(640, 640), det_thresh=0.5)"
   ]
  },
  {
   "cell_type": "markdown",
   "metadata": {},
   "source": [
    "#### Collect person information"
   ]
  },
  {
   "cell_type": "code",
   "execution_count": 16,
   "metadata": {},
   "outputs": [
    {
     "name": "stdout",
     "output_type": "stream",
     "text": [
      "Your name is:  Awaliyatul Hikmah\n",
      "Your role is:  Student\n",
      "Your key is:  Student@Awaliyatul Hikmah\n"
     ]
    }
   ],
   "source": [
    "# python input\n",
    "name = input('Enter your name: ')\n",
    "role = input(\"\"\"\n",
    "Please select your role:\n",
    "1. Student\n",
    "2. Teacher\n",
    "             \n",
    "Enter your role:\n",
    " \"\"\")\n",
    "\n",
    "\n",
    "if role in ('1', '2'):\n",
    "    if role == '1':\n",
    "        role = 'Student'\n",
    "    else:\n",
    "        role = 'Teacher'\n",
    "else:\n",
    "    print('Invalid role. Please try again.')\n",
    "        \n",
    "key = role+'@'+name\n",
    "print('Your name is: ', name)\n",
    "print('Your role is: ', role)\n",
    "print('Your key is: ', key)\n"
   ]
  },
  {
   "cell_type": "markdown",
   "metadata": {},
   "source": [
    "#### Collect the sample using video capture"
   ]
  },
  {
   "cell_type": "code",
   "execution_count": 17,
   "metadata": {},
   "outputs": [],
   "source": [
    "cap = cv2.VideoCapture(0) # 0: default camera, 1: external camera\n",
    "face_embeddings = []\n",
    "sample = 0\n",
    "while True:\n",
    "    ret, frame = cap.read()\n",
    "    \n",
    "    if not ret:\n",
    "        print('Error: Unable to capture video')\n",
    "        break\n",
    "\n",
    "    # get result from face analysis\n",
    "    results = app.get(frame, max_num=1) # max_num: maximum number of faces to detect\n",
    "    \n",
    "    for res in results:\n",
    "        sample += 1\n",
    "        x1, y1, x2, y2 = res['bbox'].astype(int)\n",
    "        cv2.rectangle(frame, (x1, y1), (x2, y2), (0, 255, 0), 2) # 2: thickness\n",
    "\n",
    "        # get facial features\n",
    "        embeddings = res['embedding']\n",
    "        face_embeddings.append(embeddings)\n",
    "\n",
    "    if sample >= 200:\n",
    "        break\n",
    "\n",
    "    # show the frame\n",
    "    cv2.imshow('frame', frame)\n",
    "    \n",
    "    # exit if q is pressed\n",
    "    if cv2.waitKey(1) & 0xFF == ord('q'): # 1 ms delay, 0xFF: 8 bit binary number\n",
    "        break\n",
    "cap.release()\n",
    "cv2.destroyAllWindows()"
   ]
  },
  {
   "cell_type": "code",
   "execution_count": 18,
   "metadata": {},
   "outputs": [
    {
     "data": {
      "text/plain": [
       "200"
      ]
     },
     "execution_count": 18,
     "metadata": {},
     "output_type": "execute_result"
    }
   ],
   "source": [
    "len(face_embeddings)"
   ]
  },
  {
   "cell_type": "markdown",
   "metadata": {},
   "source": [
    "#### Optimizing the sample"
   ]
  },
  {
   "cell_type": "code",
   "execution_count": 19,
   "metadata": {},
   "outputs": [
    {
     "data": {
      "text/plain": [
       "(512,)"
      ]
     },
     "execution_count": 19,
     "metadata": {},
     "output_type": "execute_result"
    }
   ],
   "source": [
    "x_mean = np.asarray(face_embeddings).mean(axis=0)\n",
    "x_mean.shape"
   ]
  },
  {
   "cell_type": "code",
   "execution_count": 20,
   "metadata": {},
   "outputs": [],
   "source": [
    "# convert into bytes\n",
    "x_mean_bytes = x_mean.tobytes()"
   ]
  },
  {
   "cell_type": "code",
   "execution_count": 21,
   "metadata": {},
   "outputs": [
    {
     "data": {
      "text/plain": [
       "1"
      ]
     },
     "execution_count": 21,
     "metadata": {},
     "output_type": "execute_result"
    }
   ],
   "source": [
    "# save key and facial bytes into redis\n",
    "r.hset(name='academy:register', key=key, value=x_mean_bytes)"
   ]
  },
  {
   "cell_type": "code",
   "execution_count": null,
   "metadata": {},
   "outputs": [],
   "source": []
  }
 ],
 "metadata": {
  "kernelspec": {
   "display_name": "aloka-vision-venv",
   "language": "python",
   "name": "python3"
  },
  "language_info": {
   "codemirror_mode": {
    "name": "ipython",
    "version": 3
   },
   "file_extension": ".py",
   "mimetype": "text/x-python",
   "name": "python",
   "nbconvert_exporter": "python",
   "pygments_lexer": "ipython3",
   "version": "3.10.11"
  },
  "orig_nbformat": 4
 },
 "nbformat": 4,
 "nbformat_minor": 2
}
