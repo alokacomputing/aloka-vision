{
 "cells": [
  {
   "cell_type": "code",
   "execution_count": 1,
   "metadata": {},
   "outputs": [
    {
     "name": "stdout",
     "output_type": "stream",
     "text": [
      "Applied providers: ['CPUExecutionProvider'], with options: {'CPUExecutionProvider': {}}\n",
      "find model: playground\\models\\buffalo_sc\\det_500m.onnx detection [1, 3, '?', '?'] 127.5 128.0\n",
      "Applied providers: ['CPUExecutionProvider'], with options: {'CPUExecutionProvider': {}}\n",
      "find model: playground\\models\\buffalo_sc\\w600k_mbf.onnx recognition ['None', 3, 112, 112] 127.5 127.5\n",
      "set det-size: (640, 640)\n"
     ]
    }
   ],
   "source": [
    "import face_rec"
   ]
  },
  {
   "cell_type": "code",
   "execution_count": 2,
   "metadata": {},
   "outputs": [],
   "source": [
    "import pandas as pd\n",
    "import numpy as np\n",
    "import cv2"
   ]
  },
  {
   "cell_type": "code",
   "execution_count": 3,
   "metadata": {},
   "outputs": [
    {
     "data": {
      "text/plain": [
       "True"
      ]
     },
     "execution_count": 3,
     "metadata": {},
     "output_type": "execute_result"
    }
   ],
   "source": [
    "face_rec.r.ping()"
   ]
  },
  {
   "cell_type": "code",
   "execution_count": 4,
   "metadata": {},
   "outputs": [],
   "source": [
    "# face_rec.r.hdel('academy:register', 'Student@Ahikmah')\n",
    "# face_rec.r.hdel('academy:register', 'Teacher@Aman Ansari')"
   ]
  },
  {
   "cell_type": "markdown",
   "metadata": {},
   "source": [
    "#### 1. Extract data from db"
   ]
  },
  {
   "cell_type": "code",
   "execution_count": 5,
   "metadata": {},
   "outputs": [
    {
     "data": {
      "text/plain": [
       "Student@Chris Evans           [0.7201715, -1.4684149, -0.7781253, -1.4601073...\n",
       "Student@Scarlett Johansson    [0.19131963, -0.48843804, -1.690233, 0.4423967...\n",
       "Teacher@Barack Obama          [0.94858104, -0.5584052, 0.094820715, -1.27965...\n",
       "Teacher@Morgan Freeman        [0.48535103, -0.6192555, -0.4069932, 1.0687788...\n",
       "Student@Awaliyatul Hikmah     [-0.82745886, -0.14807658, 1.2313854, 0.161325...\n",
       "Student@Angelina Jolie        [0.43242034, 1.0748498, -0.12862365, -1.833291...\n",
       "dtype: object"
      ]
     },
     "execution_count": 5,
     "metadata": {},
     "output_type": "execute_result"
    }
   ],
   "source": [
    "\n",
    "retrieve_dict = face_rec.r.hgetall('academy:register')\n",
    "retrieve_series = pd.Series(retrieve_dict)\n",
    "retrieve_series = retrieve_series.apply(lambda x: np.frombuffer(x, dtype=np.float32))\n",
    "index = retrieve_series.index\n",
    "index = list(map(lambda x: x.decode('utf-8'), index))\n",
    "retrieve_series.index = index\n",
    "\n",
    "retrieve_series"
   ]
  },
  {
   "cell_type": "code",
   "execution_count": 6,
   "metadata": {},
   "outputs": [
    {
     "data": {
      "text/html": [
       "<div>\n",
       "<style scoped>\n",
       "    .dataframe tbody tr th:only-of-type {\n",
       "        vertical-align: middle;\n",
       "    }\n",
       "\n",
       "    .dataframe tbody tr th {\n",
       "        vertical-align: top;\n",
       "    }\n",
       "\n",
       "    .dataframe thead th {\n",
       "        text-align: right;\n",
       "    }\n",
       "</style>\n",
       "<table border=\"1\" class=\"dataframe\">\n",
       "  <thead>\n",
       "    <tr style=\"text-align: right;\">\n",
       "      <th></th>\n",
       "      <th>role_name</th>\n",
       "      <th>facial_features</th>\n",
       "      <th>role</th>\n",
       "      <th>name</th>\n",
       "    </tr>\n",
       "  </thead>\n",
       "  <tbody>\n",
       "    <tr>\n",
       "      <th>0</th>\n",
       "      <td>Student@Chris Evans</td>\n",
       "      <td>[0.7201715, -1.4684149, -0.7781253, -1.4601073...</td>\n",
       "      <td>Student</td>\n",
       "      <td>Chris Evans</td>\n",
       "    </tr>\n",
       "    <tr>\n",
       "      <th>1</th>\n",
       "      <td>Student@Scarlett Johansson</td>\n",
       "      <td>[0.19131963, -0.48843804, -1.690233, 0.4423967...</td>\n",
       "      <td>Student</td>\n",
       "      <td>Scarlett Johansson</td>\n",
       "    </tr>\n",
       "    <tr>\n",
       "      <th>2</th>\n",
       "      <td>Teacher@Barack Obama</td>\n",
       "      <td>[0.94858104, -0.5584052, 0.094820715, -1.27965...</td>\n",
       "      <td>Teacher</td>\n",
       "      <td>Barack Obama</td>\n",
       "    </tr>\n",
       "    <tr>\n",
       "      <th>3</th>\n",
       "      <td>Teacher@Morgan Freeman</td>\n",
       "      <td>[0.48535103, -0.6192555, -0.4069932, 1.0687788...</td>\n",
       "      <td>Teacher</td>\n",
       "      <td>Morgan Freeman</td>\n",
       "    </tr>\n",
       "    <tr>\n",
       "      <th>4</th>\n",
       "      <td>Student@Awaliyatul Hikmah</td>\n",
       "      <td>[-0.82745886, -0.14807658, 1.2313854, 0.161325...</td>\n",
       "      <td>Student</td>\n",
       "      <td>Awaliyatul Hikmah</td>\n",
       "    </tr>\n",
       "    <tr>\n",
       "      <th>5</th>\n",
       "      <td>Student@Angelina Jolie</td>\n",
       "      <td>[0.43242034, 1.0748498, -0.12862365, -1.833291...</td>\n",
       "      <td>Student</td>\n",
       "      <td>Angelina Jolie</td>\n",
       "    </tr>\n",
       "  </tbody>\n",
       "</table>\n",
       "</div>"
      ],
      "text/plain": [
       "                    role_name  \\\n",
       "0         Student@Chris Evans   \n",
       "1  Student@Scarlett Johansson   \n",
       "2        Teacher@Barack Obama   \n",
       "3      Teacher@Morgan Freeman   \n",
       "4   Student@Awaliyatul Hikmah   \n",
       "5      Student@Angelina Jolie   \n",
       "\n",
       "                                     facial_features     role  \\\n",
       "0  [0.7201715, -1.4684149, -0.7781253, -1.4601073...  Student   \n",
       "1  [0.19131963, -0.48843804, -1.690233, 0.4423967...  Student   \n",
       "2  [0.94858104, -0.5584052, 0.094820715, -1.27965...  Teacher   \n",
       "3  [0.48535103, -0.6192555, -0.4069932, 1.0687788...  Teacher   \n",
       "4  [-0.82745886, -0.14807658, 1.2313854, 0.161325...  Student   \n",
       "5  [0.43242034, 1.0748498, -0.12862365, -1.833291...  Student   \n",
       "\n",
       "                 name  \n",
       "0         Chris Evans  \n",
       "1  Scarlett Johansson  \n",
       "2        Barack Obama  \n",
       "3      Morgan Freeman  \n",
       "4   Awaliyatul Hikmah  \n",
       "5      Angelina Jolie  "
      ]
     },
     "execution_count": 6,
     "metadata": {},
     "output_type": "execute_result"
    }
   ],
   "source": [
    "retrieve_df = retrieve_series.to_frame().reset_index()\n",
    "retrieve_df.columns = ['role_name', 'facial_features']\n",
    "retrieve_df[['role', 'name']] = retrieve_df['role_name'].apply(lambda x: x.split('@')).apply(pd.Series)\n",
    "\n",
    "retrieve_df"
   ]
  },
  {
   "cell_type": "markdown",
   "metadata": {},
   "source": [
    "#### 2. Get Realtime Prediction"
   ]
  },
  {
   "cell_type": "code",
   "execution_count": 7,
   "metadata": {},
   "outputs": [],
   "source": [
    "cap = cv2.VideoCapture(0)\n",
    "while True:\n",
    "    ret, frame = cap.read()\n",
    "    if ret:\n",
    "        # frame = cv2.flip(frame, 1)\n",
    "        # frame = cv2.resize(frame, (640, 480))\n",
    "        frame = face_rec.face_prediction(frame, retrieve_df, 'facial_features', thresh=0.5)\n",
    "        cv2.imshow('frame', frame)\n",
    "        if cv2.waitKey(1) & 0xFF == 27: # press ESC to exit\n",
    "            break\n",
    "    else:\n",
    "        break\n",
    "\n",
    "cv2.destroyAllWindows()\n",
    "cap.release()"
   ]
  },
  {
   "cell_type": "code",
   "execution_count": null,
   "metadata": {},
   "outputs": [],
   "source": []
  }
 ],
 "metadata": {
  "kernelspec": {
   "display_name": "venv",
   "language": "python",
   "name": "python3"
  },
  "language_info": {
   "codemirror_mode": {
    "name": "ipython",
    "version": 3
   },
   "file_extension": ".py",
   "mimetype": "text/x-python",
   "name": "python",
   "nbconvert_exporter": "python",
   "pygments_lexer": "ipython3",
   "version": "3.10.11"
  },
  "orig_nbformat": 4
 },
 "nbformat": 4,
 "nbformat_minor": 2
}
